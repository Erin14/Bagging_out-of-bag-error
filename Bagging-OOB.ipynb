{
 "cells": [
  {
   "cell_type": "markdown",
   "metadata": {},
   "source": [
    "# Bagging"
   ]
  },
  {
   "cell_type": "markdown",
   "metadata": {},
   "source": [
    "We consider bagging using the OOB error to automatically determine the number of basis models to use. Specifically, we keep adding one model trained on a bootstrap sample to the bagging ensemble at a time, and stop only when one of the following happens: (a) the number of models m in the ensemble reaches a pre-specified maximum number of models, or (b) m is at least 10, and $\\bar{\\epsilon}_{m}^{OOB}\\geq \\bar{\\epsilon}_{m-5}^{OOB}$. Here the smoothed OOB error $\\bar{\\epsilon}_{m}^{OOB}$ is defined as $\\bar{\\epsilon}_{t}^{OOB}=\\frac{1}{5}\\sum _{i=1}^{5}{\\epsilon}_{t-i+1}^{OOB}$, with ${\\epsilon}_{i}^{OOB}$ being the OOB error for the ensemble consisting of the first $i$ models."
   ]
  },
  {
   "cell_type": "markdown",
   "metadata": {},
   "source": [
    "Note that we only consider bagging of probabilistic classifiers, and the prediction method we use here is: first use each individual classifier to predict the class distributions, then average over all the predicted distributions, and predict the most likely class. If an example is not an OOB example for any of the basis models, predict the first class. \n"
   ]
  },
  {
   "cell_type": "markdown",
   "metadata": {},
   "source": [
    "#### Choose 1 as random seed."
   ]
  },
  {
   "cell_type": "code",
   "execution_count": 1,
   "metadata": {},
   "outputs": [],
   "source": [
    "from sklearn import datasets\n",
    "from sklearn.model_selection import train_test_split\n",
    "\n",
    "digits = datasets.load_digits()\n",
    "X_train, X_test, y_train, y_test = train_test_split(digits.data, digits.target, \n",
    "                                                    test_size = 0.3, random_state = 1)\n"
   ]
  },
  {
   "cell_type": "markdown",
   "metadata": {},
   "source": [
    "We will introduce a dictionary variable called \"self.oob_probs\". The keys of self.obb_probs variable would be the indexes (from 0 to (the number of training samples - 1)) of training data.  \n",
    "  \n",
    "After fitted a basis model M($i$), we use this model M($i$) to predict the class distribution of each OOB samples OOB($i$), and then store the distribution dist($i$) in the dictionary by adding the new distribution dist($i$) into the old distribution sum(dist(1:$i$-1)).  \n",
    "  \n",
    "By doing so, we can store the class distributions of previous $i$ basis models but not the $i$ number of previous bootstrap samples. And the required memory would remain the same no matter how many basis models we have built."
   ]
  },
  {
   "cell_type": "code",
   "execution_count": 2,
   "metadata": {},
   "outputs": [],
   "source": [
    "from sklearn.base import clone\n",
    "import numpy as np\n",
    "from sklearn.utils import resample\n",
    "\n",
    "class OOBaggingClassifier:\n",
    "    def __init__(self, base_estimator, n_estimators=200):\n",
    "        '''\n",
    "        Parameters\n",
    "        ----------\n",
    "        base_estimator: a probabilistic classifier that implements the predict_proba function, such as DecisionTreeClassifier\n",
    "        n_estimators: the maximum number of estimators allowed.\n",
    "        '''\n",
    "        self.base_estimator_ = base_estimator\n",
    "        self.n_estimators = n_estimators\n",
    "        self.estimators_ = []\n",
    "        self.oob_errors_ = []\n",
    "        self.oob_probs = {}\n",
    "\n",
    "    def fit(self, X, y, random_state = None):\n",
    "        '''\n",
    "        Parameters\n",
    "        ----------\n",
    "        X: an input array of shape (n_sample, n_features)\n",
    "        y: an array of shape (n_sample,) containing the classes for the input examples\n",
    "        random_state: random seed (for reproducible results)\n",
    "        '''\n",
    "        if random_state:\n",
    "            np.random.seed(random_state)\n",
    "        random_ints = np.random.randint(2*self.n_estimators, size = self.n_estimators)\n",
    "        \n",
    "        self.best_n = 0\n",
    "\n",
    "        # initiate self.oob_probs dictionary\n",
    "        if self.oob_probs == {}:\n",
    "            for data_index in range(X.shape[0]):\n",
    "                self.oob_probs[data_index] = []\n",
    "\n",
    "        for i in range(self.n_estimators):\n",
    "            estimator = clone(self.base_estimator_)\n",
    "\n",
    "            # bootstrap sample\n",
    "            X_sample, y_sample, selected = resample(X, y, list(range(X.shape[0])), \n",
    "                                                    n_samples = X.shape[0], random_state = random_ints[i])\n",
    "            estimator.fit(X_sample, y_sample)\n",
    "            # the indexes of OOB samples\n",
    "            oob_indexes = [data_index for data_index in range(X.shape[0]) if data_index not in selected]\n",
    "            for oob_index in oob_indexes:\n",
    "                # make a prediction on the new OOB samples and add the probability into self.oob_probs\n",
    "                oob_predicts_prob = estimator.predict_proba(X[oob_index].reshape(1, -1))\n",
    "                if len(self.oob_probs[oob_index]):\n",
    "                    self.oob_probs[oob_index] += oob_predicts_prob\n",
    "                else:\n",
    "                    self.oob_probs[oob_index] = oob_predicts_prob\n",
    "\n",
    "            oob_incorrect = 0 # the number of incorrect predictions of OOB samples\n",
    "            for oob_index, oob_prob in self.oob_probs.items():\n",
    "                if len(oob_prob):\n",
    "                    predicted_value = np.argmax(oob_prob, axis=1)\n",
    "                else: \n",
    "                # if an example is not an OOB example for any of the basis models, predict the first class.\n",
    "                    predicted_value = 0\n",
    "\n",
    "                if predicted_value != y[oob_index]:\n",
    "                    oob_incorrect += 1\n",
    "\n",
    "            oob_error = oob_incorrect / X.shape[0]\n",
    "\n",
    "            # save the OOB error and the new model\n",
    "            self.estimators_.append(estimator)\n",
    "            self.oob_errors_.append(oob_error)\n",
    "\n",
    "            # stop early if smoothed OOB error increases (for the purpose of\n",
    "            # this problem, we don't stop training when the criterion is\n",
    "            # fulfilled, but simply set self.best_n to (i+1)).\n",
    "\n",
    "            if (self.best_n == 0):\n",
    "                if (i >= 9) and (self.oob_errors_[i-4:i] >= self.oob_errors_[i-9:i-5]):\n",
    "                    self.best_n = (i + 1)\n",
    "\n",
    "    def errors(self, X, y):\n",
    "        '''\n",
    "        Parameters\n",
    "        ----------\n",
    "        X: an input array of shape (n_sample, n_features)\n",
    "        y: an array of shape (n_sample,) containing the classes for the input examples\n",
    "\n",
    "        Returns\n",
    "        ------\n",
    "        error_rates: an array of shape (n_estimators,), with the error_rates[i]\n",
    "        being the error rate of the ensemble consisting of the first (i+1)\n",
    "        models.\n",
    "        '''\n",
    "        error_rates = []\n",
    "\n",
    "        # compute all the required error rates\n",
    "        for i in range(self.n_estimators):\n",
    "            probs = None\n",
    "            for j in range(i + 1):\n",
    "                p = self.estimators_[j].predict_proba(X)\n",
    "                if probs is None:\n",
    "                    probs = p\n",
    "                else:\n",
    "                    probs += p\n",
    "                    \n",
    "            predicted_values = np.argmax(probs, axis=1)\n",
    "            n_wrong_predicted = sum(predicted_values != y)\n",
    "            error_rates.append(n_wrong_predicted / len(predicted_values))\n",
    "\n",
    "        return error_rates\n",
    "\n",
    "    def predict(self, X):\n",
    "        '''\n",
    "        Parameters\n",
    "        ----------\n",
    "        X: an input array of shape (n_sample, n_features)\n",
    "\n",
    "        Returns\n",
    "        ------\n",
    "        y: an array of shape (n_samples,) containing the predicted classes\n",
    "        '''\n",
    "        probs = None\n",
    "        for estimator in self.estimators_:\n",
    "            p = estimator.predict_proba(X)\n",
    "            if probs is None:\n",
    "                probs = p\n",
    "            else:\n",
    "                probs += p\n",
    "        return np.argmax(probs, axis=1)\n"
   ]
  },
  {
   "cell_type": "markdown",
   "metadata": {},
   "source": [
    "#### The number of basis models chosen by the OOB error method is 30."
   ]
  },
  {
   "cell_type": "code",
   "execution_count": 3,
   "metadata": {},
   "outputs": [
    {
     "name": "stdout",
     "output_type": "stream",
     "text": [
      "The number of basis models chosen by the OOB error method is 44\n"
     ]
    }
   ],
   "source": [
    "from sklearn.tree import DecisionTreeClassifier\n",
    "\n",
    "# case 1\n",
    "oob_clf1 = OOBaggingClassifier(DecisionTreeClassifier(), n_estimators = 200)\n",
    "oob_clf1.fit(X_train, y_train, random_state = 1)\n",
    "oob_error1 = oob_clf1.oob_errors_\n",
    "test_error1 = oob_clf1.errors(X_test, y_test)\n",
    "print(\"The number of basis models chosen by the OOB error method is\", oob_clf1.best_n)"
   ]
  },
  {
   "cell_type": "code",
   "execution_count": 4,
   "metadata": {},
   "outputs": [
    {
     "data": {
      "image/png": "[encoded data removed]",
      "text/plain": [
       "<Figure size 432x288 with 1 Axes>"
      ]
     },
     "metadata": {
      "needs_background": "light"
     },
     "output_type": "display_data"
    }
   ],
   "source": [
    "# Plot the OOB error and the test error against the number of models (from 1 to 200).\n",
    "\n",
    "%matplotlib inline\n",
    "import matplotlib.pyplot as plt\n",
    "\n",
    "plt.plot(list(range(1, 201)), oob_error1, color = 'green', label = 'oob')\n",
    "plt.plot(list(range(1, 201)), test_error1, color = 'orange', label = 'test')\n",
    "plt.xlabel(\"number of basis models\")\n",
    "plt.ylabel(\"classification error\")\n",
    "plt.legend(loc = 1)\n",
    "plt.show()"
   ]
  },
  {
   "cell_type": "markdown",
   "metadata": {},
   "source": [
    "####  Use random seed 2 and 3."
   ]
  },
  {
   "cell_type": "code",
   "execution_count": 5,
   "metadata": {},
   "outputs": [
    {
     "name": "stdout",
     "output_type": "stream",
     "text": [
      "The number of basis models chosen by the OOB error method is 37\n"
     ]
    }
   ],
   "source": [
    "# case 2: random seed = 2\n",
    "oob_clf2 = OOBaggingClassifier(DecisionTreeClassifier(), n_estimators = 200)\n",
    "oob_clf2.fit(X_train, y_train, random_state = 2)\n",
    "oob_error2 = oob_clf2.oob_errors_\n",
    "test_error2 = oob_clf2.errors(X_test, y_test)\n",
    "print(\"The number of basis models chosen by the OOB error method is\", oob_clf2.best_n)"
   ]
  },
  {
   "cell_type": "code",
   "execution_count": 6,
   "metadata": {},
   "outputs": [
    {
     "data": {
      "image/png": "[encoded data removed]",
      "text/plain": [
       "<Figure size 432x288 with 1 Axes>"
      ]
     },
     "metadata": {
      "needs_background": "light"
     },
     "output_type": "display_data"
    }
   ],
   "source": [
    "plt.plot(list(range(1, 201)), oob_error2, color = 'green', label = 'oob')\n",
    "plt.plot(list(range(1, 201)), test_error2, color = 'orange', label = 'test')\n",
    "plt.xlabel(\"number of basis models\")\n",
    "plt.ylabel(\"classification error\")\n",
    "plt.legend(loc = 1)\n",
    "plt.show()"
   ]
  },
  {
   "cell_type": "code",
   "execution_count": 7,
   "metadata": {},
   "outputs": [
    {
     "name": "stdout",
     "output_type": "stream",
     "text": [
      "The number of basis models chosen by the OOB error method is 57\n"
     ]
    }
   ],
   "source": [
    "# case 3: random seed = 3\n",
    "oob_clf3 = OOBaggingClassifier(DecisionTreeClassifier(), n_estimators = 200)\n",
    "oob_clf3.fit(X_train, y_train, random_state = 3)\n",
    "oob_error3 = oob_clf3.oob_errors_\n",
    "test_error3 = oob_clf3.errors(X_test, y_test)\n",
    "print(\"The number of basis models chosen by the OOB error method is\", oob_clf3.best_n)"
   ]
  },
  {
   "cell_type": "code",
   "execution_count": 8,
   "metadata": {},
   "outputs": [
    {
     "data": {
      "image/png": "[encoded data removed]",
      "text/plain": [
       "<Figure size 432x288 with 1 Axes>"
      ]
     },
     "metadata": {
      "needs_background": "light"
     },
     "output_type": "display_data"
    }
   ],
   "source": [
    "plt.plot(list(range(1, 201)), oob_error3, color = 'green', label = 'oob')\n",
    "plt.plot(list(range(1, 201)), test_error3, color = 'orange', label = 'test')\n",
    "plt.xlabel(\"number of basis models\")\n",
    "plt.ylabel(\"classification error\")\n",
    "plt.legend(loc = 1)\n",
    "plt.show()"
   ]
  },
  {
   "cell_type": "markdown",
   "metadata": {},
   "source": [
    "Comment:  \n",
    "  \n",
    "From the three plots above, the OOB errors are extremely large (between 0.2 and 0.7) when the numbers of basis models are small. But unsurprisingly, we can see that when the number of basis models is small, as the number of basis models increases, the OOB error and test error generally decrease rapidly, and the test error has stabilised when the OOB error stabilises (when the number of basis models is around 40). And we can achieve a low test error (less than 0.05) by using OOB error for selecting the number of models. So the OOB error is a good estimator for test performance.  \n",
    "  \n",
    "But also, we can see that from the three cases above, the number of basis models chosen by the OOB error method could vary. For example, the number of basis models we choose in case 2 is 37 while in case 3, we choose 57 basis models. So implement bagging for several times would be better than implement it only once or twice."
   ]
  }
 ],
 "metadata": {
  "kernelspec": {
   "display_name": "Python 3",
   "language": "python",
   "name": "python3"
  },
  "language_info": {
   "codemirror_mode": {
    "name": "ipython",
    "version": 3
   },
   "file_extension": ".py",
   "mimetype": "text/x-python",
   "name": "python",
   "nbconvert_exporter": "python",
   "pygments_lexer": "ipython3",
   "version": "3.7.9"
  }
 },
 "nbformat": 4,
 "nbformat_minor": 4
}
